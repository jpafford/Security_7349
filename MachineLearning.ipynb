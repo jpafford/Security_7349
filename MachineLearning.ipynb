{
 "cells": [
  {
   "cell_type": "code",
   "execution_count": 91,
   "metadata": {},
   "outputs": [
    {
     "data": {
      "text/plain": [
       "RandomForestClassifier(bootstrap=True, class_weight=None, criterion='gini',\n",
       "            max_depth=None, max_features='auto', max_leaf_nodes=None,\n",
       "            min_impurity_decrease=0.0, min_impurity_split=None,\n",
       "            min_samples_leaf=1, min_samples_split=2,\n",
       "            min_weight_fraction_leaf=0.0, n_estimators=10, n_jobs=1,\n",
       "            oob_score=False, random_state=None, verbose=0,\n",
       "            warm_start=False)"
      ]
     },
     "execution_count": 91,
     "metadata": {},
     "output_type": "execute_result"
    }
   ],
   "source": [
    "import pandas\n",
    "import numpy\n",
    "from sklearn.ensemble import RandomForestClassifier\n",
    "\n",
    "#read in data file\n",
    "risk = pandas.read_csv('Term_Dataset.csv', index_col=0)\n",
    "\n",
    "#change category to numberical values\n",
    "risk_cat = {'High Risk':3, 'Moderate Risk': 2, 'Low Risk':1}\n",
    "risk.risk_category = risk.risk_category.replace(risk_cat)\n",
    "\n",
    "#these variables were heavily weighted by CTSI, risk_category is the response variable\n",
    "risk = risk[['inspection_score', 'violation_id', 'business_postal_code', 'risk_category']].copy()\n",
    "\n",
    "#remove rows with NaN in one of the variables above\n",
    "risk = risk.dropna()\n",
    "\n",
    "#extract the violation code from violation_id string.  Format is businessID_Date_ViolationID\n",
    "risk.violation_id = risk.violation_id.str.split('_', expand=True)[2]\n",
    "\n",
    "#change to integer\n",
    "risk.business_postal_code = risk.business_postal_code.astype(int)\n",
    "risk.violation_id = risk.violation_id.astype(int)\n",
    "\n",
    "if 'risk_category' in risk:\n",
    "    #Response variable\n",
    "    y = risk['risk_category'].values\n",
    "    \n",
    "    #Remove response variable from dataframe\n",
    "    del risk['risk_category']\n",
    "    \n",
    "    #Everything else is the explanatory variables used in prediction.\n",
    "    x = risk.values\n",
    "\n",
    "clf = RandomForestClassifier()\n",
    "clf.fit(x,y)"
   ]
  },
  {
   "cell_type": "code",
   "execution_count": 93,
   "metadata": {},
   "outputs": [
    {
     "name": "stdout",
     "output_type": "stream",
     "text": [
      "High Risk\n"
     ]
    },
    {
     "data": {
      "text/plain": [
       "array([3], dtype=int64)"
      ]
     },
     "execution_count": 93,
     "metadata": {},
     "output_type": "execute_result"
    }
   ],
   "source": [
    "def prediction_algorithm(inspection_score, violation_id, business_postal_code):\n",
    "    subject = [inspection_score, violation_id, business_postal_code]\n",
    "    prediction = clf.predict([subject])\n",
    "    if prediction == 3:\n",
    "        print('High Risk')\n",
    "    elif prediction == 2:\n",
    "        print('Moderate Risk')\n",
    "    else:\n",
    "        print('Low Risk')\n",
    "    return prediction\n",
    "\n",
    "prediction_algorithm(68, 94109, 103115)"
   ]
  }
 ],
 "metadata": {
  "kernelspec": {
   "display_name": "Python 3",
   "language": "python",
   "name": "python3"
  },
  "language_info": {
   "codemirror_mode": {
    "name": "ipython",
    "version": 3
   },
   "file_extension": ".py",
   "mimetype": "text/x-python",
   "name": "python",
   "nbconvert_exporter": "python",
   "pygments_lexer": "ipython3",
   "version": "3.7.0"
  }
 },
 "nbformat": 4,
 "nbformat_minor": 2
}
